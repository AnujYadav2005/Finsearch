{
  "nbformat": 4,
  "nbformat_minor": 0,
  "metadata": {
    "colab": {
      "provenance": []
    },
    "kernelspec": {
      "name": "python3",
      "display_name": "Python 3"
    },
    "language_info": {
      "name": "python"
    }
  },
  "cells": [
    {
      "cell_type": "code",
      "execution_count": 10,
      "metadata": {
        "id": "kN1WMDmNEeT9"
      },
      "outputs": [],
      "source": [
        "import yfinance as yf\n",
        "import pandas as pd\n",
        "import numpy as np\n",
        "from scipy.optimize import minimize\n",
        "\n",
        "# List of tickers\n",
        "tickers = {\n",
        "    'Walmart': 'WMT',\n",
        "    'McDonalds': 'MCD',\n",
        "    'SP500': '^GSPC',  # S&P 500 for comparison\n",
        "    'Gold': 'GC=F'\n",
        "}\n",
        "\n"
      ]
    },
    {
      "cell_type": "code",
      "source": [
        "\n",
        "# Function to download historical data\n",
        "def download_data(tickers, start_date, end_date):\n",
        "    data = {}\n",
        "    for name, ticker in tickers.items():\n",
        "        data[name] = yf.download(ticker, start=start_date, end=end_date)['Adj Close']\n",
        "    return pd.DataFrame(data)\n",
        "\n",
        "# Download data for the specified periods\n",
        "data_2006_2009 = download_data(tickers, '2006-01-01', '2009-12-31')\n",
        "data_1992_1994 = download_data(tickers, '1992-01-01', '1994-12-31')\n",
        "\n",
        "# Add a constant risk-free rate column (8% per annum, compounded daily)\n",
        "risk_free_rate_daily = (1 + 0.08) ** (1/252) - 1\n",
        "data_2006_2009['Bonds'] = (1 + risk_free_rate_daily) ** np.arange(len(data_2006_2009.index))\n",
        "data_1992_1994['Bonds'] = (1 + risk_free_rate_daily) ** np.arange(len(data_1992_1994.index))"
      ],
      "metadata": {
        "colab": {
          "base_uri": "https://localhost:8080/"
        },
        "collapsed": true,
        "id": "QnkePiUGIXlk",
        "outputId": "ea577065-cf3c-4504-ee40-d55b64c94da1"
      },
      "execution_count": 11,
      "outputs": [
        {
          "output_type": "stream",
          "name": "stderr",
          "text": [
            "[*********************100%%**********************]  1 of 1 completed\n",
            "[*********************100%%**********************]  1 of 1 completed\n",
            "[*********************100%%**********************]  1 of 1 completed\n",
            "[*********************100%%**********************]  1 of 1 completed\n",
            "[*********************100%%**********************]  1 of 1 completed\n",
            "[*********************100%%**********************]  1 of 1 completed\n",
            "[*********************100%%**********************]  1 of 1 completed\n",
            "[*********************100%%**********************]  1 of 1 completed\n",
            "ERROR:yfinance:\n",
            "1 Failed download:\n",
            "ERROR:yfinance:['GC=F']: YFChartError(\"%ticker%: Data doesn't exist for startDate = 694242000, endDate = 788850000\")\n"
          ]
        }
      ]
    },
    {
      "cell_type": "code",
      "source": [
        "# Function to calculate portfolio returns\n",
        "def portfolio_returns(weights, returns):\n",
        "    return np.dot(weights, returns.mean()) * 252\n",
        "\n",
        "# Function to calculate portfolio volatility\n",
        "def portfolio_volatility(weights, returns):\n",
        "    return np.sqrt(np.dot(weights.T, np.dot(returns.cov() * 252, weights)))\n",
        "\n",
        "# Function to calculate Sharpe ratio\n",
        "def sharpe_ratio(weights, returns, risk_free_rate=risk_free_rate_daily):\n",
        "    return (portfolio_returns(weights, returns) - risk_free_rate * 252) / portfolio_volatility(weights, returns)\n",
        "\n",
        "# Function to optimize portfolio\n",
        "def optimize_portfolio(returns):\n",
        "    num_assets = len(returns.columns)\n",
        "    args = (returns,)\n",
        "    constraints = ({'type': 'eq', 'fun': lambda weights: np.sum(weights) - 1})\n",
        "    bounds = tuple((0, 1) for asset in range(num_assets))\n",
        "    result = minimize(lambda weights: -sharpe_ratio(weights, *args),\n",
        "                      num_assets * [1. / num_assets,],\n",
        "                      method='SLSQP',\n",
        "                      bounds=bounds,\n",
        "                      constraints=constraints)\n",
        "    return result"
      ],
      "metadata": {
        "id": "-YHSsH-pJUB0"
      },
      "execution_count": 12,
      "outputs": []
    },
    {
      "cell_type": "code",
      "source": [
        "# Calculate returns\n",
        "returns_2006_2009 = data_2006_2009.pct_change().dropna()\n",
        "returns_1992_1994 = data_1992_1994.pct_change().dropna()\n",
        "\n",
        "# Optimize portfolio for both periods\n",
        "optimized_portfolio_2006_2009 = optimize_portfolio(returns_2006_2009)\n",
        "optimized_portfolio_1992_1994 = optimize_portfolio(returns_1992_1994)\n",
        "\n",
        "# Extract the optimized weights\n",
        "weights_2006_2009 = optimized_portfolio_2006_2009.x\n",
        "weights_1992_1994 = optimized_portfolio_1992_1994.x\n",
        "\n",
        "# Display results\n",
        "print(\"Optimized portfolio weights (2006-2009):\", weights_2006_2009)\n",
        "print(\"Optimized portfolio weights (1992-1994):\", weights_1992_1994)\n",
        "\n",
        "# Calculate average weights\n",
        "average_weights = (weights_2006_2009 + weights_1992_1994) / 2\n",
        "portfolio_allocation = pd.DataFrame(average_weights, index=returns_2006_2009.columns, columns=['Allocation'])\n",
        "\n",
        "# Display final portfolio allocation\n",
        "print(\"Final portfolio allocation:\")\n",
        "print(portfolio_allocation)\n"
      ],
      "metadata": {
        "colab": {
          "base_uri": "https://localhost:8080/"
        },
        "id": "DxY0uaeYJ--d",
        "outputId": "888b9c31-0dac-4753-ca27-10b8ea2fdedd"
      },
      "execution_count": 7,
      "outputs": [
        {
          "output_type": "stream",
          "name": "stderr",
          "text": [
            "[*********************100%%**********************]  1 of 1 completed\n",
            "[*********************100%%**********************]  1 of 1 completed\n",
            "[*********************100%%**********************]  1 of 1 completed\n",
            "[*********************100%%**********************]  1 of 1 completed\n",
            "[*********************100%%**********************]  1 of 1 completed\n",
            "[*********************100%%**********************]  1 of 1 completed\n",
            "[*********************100%%**********************]  1 of 1 completed\n",
            "[*********************100%%**********************]  1 of 1 completed\n",
            "ERROR:yfinance:\n",
            "1 Failed download:\n",
            "ERROR:yfinance:['GC=F']: YFChartError(\"%ticker%: Data doesn't exist for startDate = 694242000, endDate = 788850000\")\n"
          ]
        },
        {
          "output_type": "stream",
          "name": "stdout",
          "text": [
            "Optimized portfolio weights (2006-2009): [9.01720214e-18 5.02990809e-01 1.31405409e-16 4.97009191e-01\n",
            " 5.79725545e-17]\n",
            "Optimized portfolio weights (1992-1994): [0.2 0.2 0.2 0.2 0.2]\n",
            "Final portfolio allocation:\n",
            "           Allocation\n",
            "Walmart      0.100000\n",
            "McDonalds    0.351495\n",
            "SP500        0.100000\n",
            "Gold         0.348505\n",
            "Bonds        0.100000\n"
          ]
        },
        {
          "output_type": "stream",
          "name": "stderr",
          "text": [
            "<ipython-input-7-ecf9fd60f75b>:56: FutureWarning: The default fill_method='pad' in DataFrame.pct_change is deprecated and will be removed in a future version. Either fill in any non-leading NA values prior to calling pct_change or specify 'fill_method=None' to not fill NA values.\n",
            "  returns_2006_2009 = data_2006_2009.pct_change().dropna()\n",
            "<ipython-input-7-ecf9fd60f75b>:57: FutureWarning: The default fill_method='pad' in DataFrame.pct_change is deprecated and will be removed in a future version. Either fill in any non-leading NA values prior to calling pct_change or specify 'fill_method=None' to not fill NA values.\n",
            "  returns_1992_1994 = data_1992_1994.pct_change().dropna()\n",
            "/usr/local/lib/python3.10/dist-packages/numpy/lib/function_base.py:520: RuntimeWarning: Mean of empty slice.\n",
            "  avg = a.mean(axis, **keepdims_kw)\n",
            "/usr/local/lib/python3.10/dist-packages/numpy/core/_methods.py:121: RuntimeWarning: invalid value encountered in divide\n",
            "  ret = um.true_divide(\n",
            "/usr/local/lib/python3.10/dist-packages/pandas/core/frame.py:10866: RuntimeWarning: Degrees of freedom <= 0 for slice\n",
            "  base_cov = np.cov(mat.T, ddof=ddof)\n",
            "/usr/local/lib/python3.10/dist-packages/numpy/lib/function_base.py:2748: RuntimeWarning: divide by zero encountered in divide\n",
            "  c *= np.true_divide(1, fact)\n",
            "/usr/local/lib/python3.10/dist-packages/numpy/lib/function_base.py:2748: RuntimeWarning: invalid value encountered in multiply\n",
            "  c *= np.true_divide(1, fact)\n"
          ]
        }
      ]
    },
    {
      "cell_type": "code",
      "source": [
        "# Function to calculate portfolio value over time\n",
        "def calculate_portfolio_value(initial_investment, weights, returns):\n",
        "    portfolio_values = (returns + 1).cumprod().dot(weights) * initial_investment\n",
        "    return portfolio_values\n",
        "\n",
        "# Calculate portfolio values for $100,000 initial investment\n",
        "initial_investment = 100000\n",
        "portfolio_value_2006_2009 = calculate_portfolio_value(initial_investment, weights_2006_2009, returns_2006_2009)\n",
        "portfolio_value_1992_1994 = calculate_portfolio_value(initial_investment, weights_1992_1994, returns_1992_1994)\n",
        "\n",
        "# Display portfolio values over time\n",
        "print(\"Portfolio value over time (2006-2009):\")\n",
        "print(portfolio_value_2006_2009)\n",
        "\n",
        "print(\"Portfolio value over time (1992-1994):\")\n",
        "print(portfolio_value_1992_1994)"
      ],
      "metadata": {
        "colab": {
          "base_uri": "https://localhost:8080/"
        },
        "id": "tU724KDVMInC",
        "outputId": "4918f934-a610-43da-fec0-276b4ec8d26b"
      },
      "execution_count": 13,
      "outputs": [
        {
          "output_type": "stream",
          "name": "stdout",
          "text": [
            "Portfolio value over time (2006-2009):\n",
            "Date\n",
            "2006-01-04    100749.866311\n",
            "2006-01-05    100098.111523\n",
            "2006-01-06    101653.160784\n",
            "2006-01-09    103508.839027\n",
            "2006-01-10    103104.341860\n",
            "                  ...      \n",
            "2009-12-23    208850.339895\n",
            "2009-12-24    209962.541997\n",
            "2009-12-28    210572.133672\n",
            "2009-12-29    209583.288417\n",
            "2009-12-30    207891.995173\n",
            "Length: 1007, dtype: float64\n",
            "Portfolio value over time (1992-1994):\n",
            "Series([], dtype: float64)\n"
          ]
        }
      ]
    },
    {
      "cell_type": "code",
      "source": [],
      "metadata": {
        "id": "28dzzEkAN9V0"
      },
      "execution_count": null,
      "outputs": []
    }
  ]
}